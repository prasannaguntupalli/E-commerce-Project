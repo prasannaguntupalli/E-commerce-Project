{
 "cells": [
  {
   "cell_type": "code",
   "execution_count": 2,
   "metadata": {},
   "outputs": [
    {
     "name": "stderr",
     "output_type": "stream",
     "text": [
      "C:\\Users\\IBM_ADMIN\\Anaconda3\\lib\\site-packages\\sklearn\\cross_validation.py:41: DeprecationWarning: This module was deprecated in version 0.18 in favor of the model_selection module into which all the refactored classes and functions are moved. Also note that the interface of the new CV iterators are different from that of this module. This module will be removed in 0.20.\n",
      "  \"This module will be removed in 0.20.\", DeprecationWarning)\n"
     ]
    }
   ],
   "source": [
    "import pandas as pd\n",
    "import numpy as np\n",
    "import seaborn as sns\n",
    "import math\n",
    "from sklearn.decomposition import PCA\n",
    "from sklearn.preprocessing import scale\n",
    "from sklearn.linear_model import LogisticRegression\n",
    "from sklearn.cross_validation import train_test_split\n",
    "from sklearn.metrics import classification_report, confusion_matrix\n",
    "from sklearn.metrics import roc_curve, auc\n",
    "from sklearn.metrics import roc_auc_score\n",
    "from sklearn.metrics import cohen_kappa_score\n",
    "from sklearn.metrics import jaccard_similarity_score\n",
    "from sklearn import metrics\n",
    "import matplotlib.pyplot as plt\n",
    "%matplotlib inline"
   ]
  },
  {
   "cell_type": "code",
   "execution_count": null,
   "metadata": {},
   "outputs": [],
   "source": [
    "# Reading E-Commerce Data\n",
    "cust = pd.read_csv(\"C:/Users/IBM_ADMIN/Desktop/Data Science/E commerce classification models/My Folder/E-Commerce.csv\")\n",
    "\n",
    "# Display Total number of rows and columns\n",
    "cust.shape"
   ]
  },
  {
   "cell_type": "code",
   "execution_count": null,
   "metadata": {},
   "outputs": [],
   "source": [
    "# Check the missing values of the dataset columnwise\n",
    "cust.isnull().sum()\n"
   ]
  },
  {
   "cell_type": "code",
   "execution_count": 5,
   "metadata": {},
   "outputs": [
    {
     "data": {
      "text/plain": [
       "Index(['Gender', 'Marital status', 'age group', 'Educatuon', 'income', 'Job',\n",
       "       'Area', 'CBB_9', 'CBB_10', 'CBB_11', 'CBB_12', 'CBB_13', 'CBB_14',\n",
       "       'FACT__1', 'FACT__2', 'FACT__3', 'FACT__4', 'FACT__5', 'FACT__6',\n",
       "       'FACT__7', 'FACT__8', 'FACT__9', 'FACT__10', 'FACT__11', 'FACT__12',\n",
       "       'FACT__13', 'FACT__14', 'FACT__15', 'FACT__16', 'FACT__17', 'FACT__18',\n",
       "       'FACT__19', 'FACT__20', 'FACT__21', 'FACT__22', 'FACT__23', 'FACT__24',\n",
       "       'FACT__25', 'FACT__26', 'FACT__27', 'FACT__28', 'FACT__29', 'FACT__30'],\n",
       "      dtype='object')"
      ]
     },
     "execution_count": 5,
     "metadata": {},
     "output_type": "execute_result"
    }
   ],
   "source": [
    "# Filling the missing values with forward or backward cells value\n",
    "cust = cust.fillna(method = 'pad')\n",
    "\n",
    "cust.isnull().sum()\n",
    "cust.columns"
   ]
  },
  {
   "cell_type": "code",
   "execution_count": 6,
   "metadata": {},
   "outputs": [
    {
     "data": {
      "text/html": [
       "<div>\n",
       "<style scoped>\n",
       "    .dataframe tbody tr th:only-of-type {\n",
       "        vertical-align: middle;\n",
       "    }\n",
       "\n",
       "    .dataframe tbody tr th {\n",
       "        vertical-align: top;\n",
       "    }\n",
       "\n",
       "    .dataframe thead th {\n",
       "        text-align: right;\n",
       "    }\n",
       "</style>\n",
       "<table border=\"1\" class=\"dataframe\">\n",
       "  <thead>\n",
       "    <tr style=\"text-align: right;\">\n",
       "      <th></th>\n",
       "      <th>Gender</th>\n",
       "      <th>Marital status</th>\n",
       "      <th>age group</th>\n",
       "      <th>Educatuon</th>\n",
       "      <th>income</th>\n",
       "      <th>Job</th>\n",
       "      <th>Area</th>\n",
       "      <th>CBB_9</th>\n",
       "      <th>CBB_10</th>\n",
       "      <th>CBB_11</th>\n",
       "      <th>...</th>\n",
       "      <th>FACT__21</th>\n",
       "      <th>FACT__22</th>\n",
       "      <th>FACT__23</th>\n",
       "      <th>FACT__24</th>\n",
       "      <th>FACT__25</th>\n",
       "      <th>FACT__26</th>\n",
       "      <th>FACT__27</th>\n",
       "      <th>FACT__28</th>\n",
       "      <th>FACT__29</th>\n",
       "      <th>FACT__30</th>\n",
       "    </tr>\n",
       "  </thead>\n",
       "  <tbody>\n",
       "    <tr>\n",
       "      <th>0</th>\n",
       "      <td>0</td>\n",
       "      <td>1</td>\n",
       "      <td>1</td>\n",
       "      <td>0</td>\n",
       "      <td>0</td>\n",
       "      <td>3</td>\n",
       "      <td>2</td>\n",
       "      <td>1</td>\n",
       "      <td>2</td>\n",
       "      <td>0</td>\n",
       "      <td>...</td>\n",
       "      <td>2</td>\n",
       "      <td>3</td>\n",
       "      <td>3</td>\n",
       "      <td>3</td>\n",
       "      <td>2</td>\n",
       "      <td>3</td>\n",
       "      <td>2</td>\n",
       "      <td>3</td>\n",
       "      <td>3</td>\n",
       "      <td>3</td>\n",
       "    </tr>\n",
       "    <tr>\n",
       "      <th>1</th>\n",
       "      <td>0</td>\n",
       "      <td>1</td>\n",
       "      <td>2</td>\n",
       "      <td>0</td>\n",
       "      <td>0</td>\n",
       "      <td>3</td>\n",
       "      <td>3</td>\n",
       "      <td>1</td>\n",
       "      <td>2</td>\n",
       "      <td>1</td>\n",
       "      <td>...</td>\n",
       "      <td>3</td>\n",
       "      <td>0</td>\n",
       "      <td>3</td>\n",
       "      <td>0</td>\n",
       "      <td>2</td>\n",
       "      <td>0</td>\n",
       "      <td>2</td>\n",
       "      <td>0</td>\n",
       "      <td>3</td>\n",
       "      <td>0</td>\n",
       "    </tr>\n",
       "    <tr>\n",
       "      <th>2</th>\n",
       "      <td>0</td>\n",
       "      <td>1</td>\n",
       "      <td>2</td>\n",
       "      <td>1</td>\n",
       "      <td>0</td>\n",
       "      <td>3</td>\n",
       "      <td>3</td>\n",
       "      <td>4</td>\n",
       "      <td>1</td>\n",
       "      <td>0</td>\n",
       "      <td>...</td>\n",
       "      <td>2</td>\n",
       "      <td>2</td>\n",
       "      <td>2</td>\n",
       "      <td>2</td>\n",
       "      <td>1</td>\n",
       "      <td>3</td>\n",
       "      <td>2</td>\n",
       "      <td>3</td>\n",
       "      <td>0</td>\n",
       "      <td>2</td>\n",
       "    </tr>\n",
       "    <tr>\n",
       "      <th>3</th>\n",
       "      <td>0</td>\n",
       "      <td>1</td>\n",
       "      <td>2</td>\n",
       "      <td>1</td>\n",
       "      <td>0</td>\n",
       "      <td>0</td>\n",
       "      <td>3</td>\n",
       "      <td>4</td>\n",
       "      <td>1</td>\n",
       "      <td>0</td>\n",
       "      <td>...</td>\n",
       "      <td>2</td>\n",
       "      <td>3</td>\n",
       "      <td>2</td>\n",
       "      <td>2</td>\n",
       "      <td>1</td>\n",
       "      <td>2</td>\n",
       "      <td>2</td>\n",
       "      <td>2</td>\n",
       "      <td>2</td>\n",
       "      <td>2</td>\n",
       "    </tr>\n",
       "    <tr>\n",
       "      <th>4</th>\n",
       "      <td>0</td>\n",
       "      <td>1</td>\n",
       "      <td>2</td>\n",
       "      <td>1</td>\n",
       "      <td>0</td>\n",
       "      <td>0</td>\n",
       "      <td>3</td>\n",
       "      <td>1</td>\n",
       "      <td>2</td>\n",
       "      <td>1</td>\n",
       "      <td>...</td>\n",
       "      <td>3</td>\n",
       "      <td>0</td>\n",
       "      <td>3</td>\n",
       "      <td>3</td>\n",
       "      <td>2</td>\n",
       "      <td>3</td>\n",
       "      <td>2</td>\n",
       "      <td>3</td>\n",
       "      <td>3</td>\n",
       "      <td>3</td>\n",
       "    </tr>\n",
       "  </tbody>\n",
       "</table>\n",
       "<p>5 rows × 43 columns</p>\n",
       "</div>"
      ],
      "text/plain": [
       "   Gender  Marital status  age group  Educatuon  income  Job  Area  CBB_9  \\\n",
       "0       0               1          1          0       0    3     2      1   \n",
       "1       0               1          2          0       0    3     3      1   \n",
       "2       0               1          2          1       0    3     3      4   \n",
       "3       0               1          2          1       0    0     3      4   \n",
       "4       0               1          2          1       0    0     3      1   \n",
       "\n",
       "   CBB_10  CBB_11    ...     FACT__21  FACT__22  FACT__23  FACT__24  FACT__25  \\\n",
       "0       2       0    ...            2         3         3         3         2   \n",
       "1       2       1    ...            3         0         3         0         2   \n",
       "2       1       0    ...            2         2         2         2         1   \n",
       "3       1       0    ...            2         3         2         2         1   \n",
       "4       2       1    ...            3         0         3         3         2   \n",
       "\n",
       "   FACT__26  FACT__27  FACT__28  FACT__29  FACT__30  \n",
       "0         3         2         3         3         3  \n",
       "1         0         2         0         3         0  \n",
       "2         3         2         3         0         2  \n",
       "3         2         2         2         2         2  \n",
       "4         3         2         3         3         3  \n",
       "\n",
       "[5 rows x 43 columns]"
      ]
     },
     "execution_count": 6,
     "metadata": {},
     "output_type": "execute_result"
    }
   ],
   "source": [
    "#To convert data to factors\n",
    "from sklearn.preprocessing import LabelEncoder\n",
    "count = cust.shape\n",
    "lb_make = LabelEncoder()\n",
    "\n",
    "# To convert the dataset variables into factors\n",
    "for i in range(0, count[1]):\n",
    "    cust[cust.columns[i]] = lb_make.fit_transform(cust[cust.columns[i]])\n",
    "\n",
    "#To check the dataset\n",
    "cust.head()"
   ]
  },
  {
   "cell_type": "code",
   "execution_count": 7,
   "metadata": {},
   "outputs": [
    {
     "name": "stdout",
     "output_type": "stream",
     "text": [
      "cronbachalpha value : 0.9964667626569322\n"
     ]
    }
   ],
   "source": [
    "# Reliability of the data\n",
    "itemscores = cust\n",
    "def CronbachAlpha(itemscores):\n",
    "    itemscores = np.asarray(itemscores)\n",
    "    itemvars = itemscores.var(axis=1, ddof=1)\n",
    "    tscores = itemscores.sum(axis=0)\n",
    "    nitems = len(itemscores)\n",
    " \n",
    "    return nitems / (nitems-1.) * (1 - itemvars.sum() / tscores.var(ddof=1))\n",
    "\n",
    "\n",
    "cronbachalpha = CronbachAlpha(itemscores)\n",
    "print(\"cronbachalpha value :\", cronbachalpha)"
   ]
  },
  {
   "cell_type": "code",
   "execution_count": 8,
   "metadata": {},
   "outputs": [],
   "source": [
    "# Data Quality and sample validity(KMO and Bartlett's Test)\n",
    "#from factor_analyzer import factor_analyzer.factor_analyzer\n",
    "#factor_analyzer.factor_analyzer.calculate_kmo(data)"
   ]
  },
  {
   "cell_type": "code",
   "execution_count": 9,
   "metadata": {},
   "outputs": [
    {
     "data": {
      "text/plain": [
       "(727, 30)"
      ]
     },
     "execution_count": 9,
     "metadata": {},
     "output_type": "execute_result"
    }
   ],
   "source": [
    "# Copying the factor variables data into one dataset\n",
    "factor = cust.drop(['Gender', 'Marital status', 'age group', 'Educatuon', 'income', 'Job', 'Area',\n",
    "                    'CBB_9', 'CBB_10', 'CBB_11', 'CBB_12', 'CBB_13', 'CBB_14'], axis = 1)\n",
    "factor.shape"
   ]
  },
  {
   "cell_type": "code",
   "execution_count": 10,
   "metadata": {},
   "outputs": [
    {
     "name": "stderr",
     "output_type": "stream",
     "text": [
      "C:\\Users\\IBM_ADMIN\\Anaconda3\\lib\\site-packages\\sklearn\\utils\\validation.py:475: DataConversionWarning: Data with input dtype int64 was converted to float64 by the scale function.\n",
      "  warnings.warn(msg, DataConversionWarning)\n"
     ]
    },
    {
     "name": "stdout",
     "output_type": "stream",
     "text": [
      "[21.18 34.99 42.54 49.43 55.77 60.68 65.29 69.32 73.02 76.35 79.45 82.01\n",
      " 84.28 86.4  88.45 90.09 91.46 92.68 93.79 94.83 95.73 96.61 97.34 98.\n",
      " 98.57 99.08 99.44 99.73 99.99 99.99]\n"
     ]
    },
    {
     "data": {
      "text/plain": [
       "[<matplotlib.lines.Line2D at 0xb8df978>]"
      ]
     },
     "execution_count": 10,
     "metadata": {},
     "output_type": "execute_result"
    },
    {
     "data": {
      "image/png": "[encoded data removed]",
      "text/plain": [
       "<Figure size 432x288 with 1 Axes>"
      ]
     },
     "metadata": {},
     "output_type": "display_data"
    }
   ],
   "source": [
    "# Performing PCA for the factors\n",
    "#convert it to numpy arrays( Not required)\n",
    "A = factor.values\n",
    "\n",
    "#Scaling the values(Not Required)\n",
    "A = scale(A)\n",
    "\n",
    "# Applyint PCA for the variables\n",
    "factor_pca = PCA(n_components=30)\n",
    "\n",
    "factor_pca.fit(A)\n",
    "\n",
    "#The amount of variance that each PC explains\n",
    "vari = factor_pca.explained_variance_ratio_\n",
    "\n",
    "varit = factor_pca.fit_transform(A)\n",
    "\n",
    "#Cumulative Variance explains\n",
    "vari1 = np.cumsum(np.round(factor_pca.explained_variance_ratio_, decimals=4)*100)\n",
    "\n",
    "print(vari1)\n",
    "\n",
    "# to plot the variance graph\n",
    "plt.plot(vari1)\n",
    "\n",
    "\n"
   ]
  },
  {
   "cell_type": "code",
   "execution_count": 11,
   "metadata": {},
   "outputs": [
    {
     "data": {
      "text/plain": [
       "RangeIndex(start=0, stop=30, step=1)"
      ]
     },
     "execution_count": 11,
     "metadata": {},
     "output_type": "execute_result"
    }
   ],
   "source": [
    "# Column values of the dataframe after PCA\n",
    "factor_comp = pd.DataFrame(factor_pca.components_)\n",
    "factor_comp.columns"
   ]
  },
  {
   "cell_type": "code",
   "execution_count": 12,
   "metadata": {},
   "outputs": [
    {
     "name": "stdout",
     "output_type": "stream",
     "text": [
      "          PC1       PC2       PC3       PC4       PC5       PC6       PC7  \\\n",
      "0   -4.504356  2.676168 -0.188981  0.971411  0.604219 -0.026723 -0.242948   \n",
      "1   -2.432949 -2.140811  5.304218  2.910334 -0.156150  2.626188 -2.388326   \n",
      "2   -0.374752 -0.641341 -1.825445 -0.363930  2.462253 -1.010838  0.774083   \n",
      "3    0.850137 -0.686784 -0.597081  1.395263  0.309460 -1.130883  0.304068   \n",
      "4   -4.515915  3.046458  0.100472  1.035881 -0.500927  0.917616  0.152060   \n",
      "5    4.645361  2.650481 -0.886857 -0.568975 -0.022643 -2.758229  0.273116   \n",
      "6    0.637658 -2.003442  4.939635  2.360477 -0.722305  1.343067 -1.735655   \n",
      "7   -5.037443  3.295994  0.333290  0.830067 -0.061657 -0.983834 -0.274880   \n",
      "8    4.370194  3.242140 -0.638001 -0.042729  0.096852 -2.679795 -0.480346   \n",
      "9   -4.549746  3.272221  0.308413  1.078978 -0.336234  0.290352 -0.526254   \n",
      "10   4.611530  2.876243 -0.678916 -0.525878  0.142050 -3.385493 -0.405199   \n",
      "11  -5.014548  2.827040  0.158125  0.484940 -0.043786 -1.272012  0.436526   \n",
      "12   4.834995  3.687320 -0.487713  0.551309 -0.195596 -1.117431 -1.443126   \n",
      "13  -4.773212  2.461144  0.117210  0.001792  0.001412 -1.977709  0.511673   \n",
      "14   4.834995  3.687320 -0.487713  0.551309 -0.195596 -1.117431 -1.443126   \n",
      "15  -5.020528  3.183113  0.229320  0.808518 -0.144003 -0.670202  0.064277   \n",
      "16   4.834995  3.687320 -0.487713  0.551309 -0.195596 -1.117431 -1.443126   \n",
      "17  -5.020528  3.183113  0.229320  0.808518 -0.144003 -0.670202  0.064277   \n",
      "18   4.834995  3.687320 -0.487713  0.551309 -0.195596 -1.117431 -1.443126   \n",
      "19  -5.020528  3.183113  0.229320  0.808518 -0.144003 -0.670202  0.064277   \n",
      "20   4.834995  3.687320 -0.487713  0.551309 -0.195596 -1.117431 -1.443126   \n",
      "21  -0.456067  0.904056 -1.210558  1.320131  3.029519 -0.734155 -0.301667   \n",
      "22  -4.728360  3.134734  0.058241  0.683724 -0.329180 -0.516151  0.122315   \n",
      "23   3.278224  3.380151 -0.006331  0.541042  0.776420 -1.562969 -0.078338   \n",
      "24   1.387759 -2.482316  3.657587  1.367401 -1.144383 -0.260799 -0.218651   \n",
      "25  -3.567306  1.214651 -0.719029 -0.422019 -1.633988  1.846708  0.554327   \n",
      "26   2.163392  2.927818  1.209656  0.830600 -1.174485 -3.722539  0.886141   \n",
      "27  -3.182099  0.981880 -2.216037 -1.629347 -0.690572  1.803919  1.726972   \n",
      "28   2.565716  1.272815  1.508117  4.028738 -1.854763 -2.008837  0.385559   \n",
      "29  -4.037146  1.763681 -1.981993  1.633556  3.357748 -0.087834 -0.431436   \n",
      "..        ...       ...       ...       ...       ...       ...       ...   \n",
      "697 -1.292949 -0.586170 -0.361969  0.162354  0.222017 -1.364098  0.082548   \n",
      "698 -0.000155 -1.943074 -0.349447  0.572762  0.852823 -0.497070 -0.797459   \n",
      "699  0.493331 -1.521386 -0.280994  0.536811  0.054462  1.382213 -2.023217   \n",
      "700  1.753641 -2.032095 -0.834250 -0.141456  0.493272 -1.210254  0.023502   \n",
      "701  0.004410 -0.369200 -0.139716  0.760192  0.839313 -1.107462 -0.186066   \n",
      "702 -0.051534 -0.450589  0.459649 -1.302446 -2.242267  1.940735 -0.617385   \n",
      "703  0.458951 -0.913394  0.918042 -2.364304  0.171687  0.038320  1.536981   \n",
      "704 -1.780577 -2.491179 -0.423957  1.260837 -2.582426  0.098696 -0.851220   \n",
      "705  0.043054 -1.121878 -2.758649  0.022233  0.860215  1.528996 -2.866529   \n",
      "706  0.901648 -1.771549 -0.319534  0.107798  0.476941 -1.356110  0.475421   \n",
      "707 -0.268430 -0.517479  0.444834 -1.622261 -1.935242  0.101894  0.532486   \n",
      "708  0.346101  1.753697  0.438196 -0.799002  1.239334  1.021907 -1.003499   \n",
      "709 -1.929266 -2.523782 -0.475555  0.786631 -2.400009 -0.860343 -0.626466   \n",
      "710  1.503451  0.052375  2.098965 -1.282216 -1.173670 -0.450521  0.959846   \n",
      "711  2.210655  0.332143  1.368298 -1.767690  0.918672  1.669369 -0.771233   \n",
      "712 -2.604588  0.153128 -0.910558 -1.439119 -1.681812 -0.799421  0.515135   \n",
      "713  2.572121  0.308050  0.940972 -1.897296  0.982639 -0.528775 -0.268526   \n",
      "714 -2.467031  1.284796 -0.550549 -0.117663 -1.856595  1.266527 -0.755192   \n",
      "715  1.432431 -0.063138  1.240183 -3.567574  1.957829 -1.515668  0.807662   \n",
      "716 -1.532423  0.002931 -1.402607 -2.305019 -2.205480 -0.739873  0.185287   \n",
      "717  2.120621  0.809471  1.635626 -1.298296  1.211303  1.319414 -0.913276   \n",
      "718 -2.690497  0.473719 -0.741752 -1.194849 -1.518949 -1.001535  0.282735   \n",
      "719  1.975865  0.225246  1.099733 -2.094604  1.152433 -0.198296 -0.083969   \n",
      "720 -2.310266  1.311265 -1.039996 -1.167739 -1.665779  0.656665 -0.019372   \n",
      "721  2.316326  0.341720  0.610099 -3.288326  1.575395 -1.913610  0.888565   \n",
      "722 -1.494527 -0.592218 -1.308862 -1.603971 -2.507447  0.514087  0.188562   \n",
      "723  2.408818  1.466736  0.865778 -1.035613  0.932511  1.032477 -0.540552   \n",
      "724  0.118404 -0.290967 -2.043148 -0.966135  3.320828 -0.165904  2.624699   \n",
      "725 -0.783535  0.285273 -0.031049 -0.589183 -0.815422  2.009117  4.225927   \n",
      "726  0.800722  1.237884 -1.065811 -0.955997  0.822888  3.246273  1.304977   \n",
      "\n",
      "          PC8       PC9      PC10      PC11      PC12      PC13      PC14  \\\n",
      "0   -1.938521  3.941334  9.300214 -1.928606  0.874903 -0.707593  0.482565   \n",
      "1   -1.469870  3.295552  9.141626 -0.434429 -0.269801 -0.573582  0.853011   \n",
      "2    0.265344  3.369870 -0.562980  1.241542 -0.249119 -0.742133  0.015611   \n",
      "3   -0.580874  1.906086 -0.200528  0.960489  1.072879 -0.946243 -0.651434   \n",
      "4   -1.016844  1.345367 -0.135800  1.702619  0.204524 -1.046751 -0.520882   \n",
      "5   -1.580511  0.831881  0.852642  1.759294  1.480569  0.538343 -0.584973   \n",
      "6   -0.522864  0.711334  0.334453  3.460825 -1.036033  0.808402 -0.496354   \n",
      "7    1.262361 -1.965058 -0.578723 -2.476860 -1.249727 -0.142047  1.206487   \n",
      "8   -0.667929 -1.328118  0.181917 -1.839473  0.695649  1.411499  0.150163   \n",
      "9    0.289556 -1.028416 -0.483532 -0.774078 -1.118049 -0.958720  0.748351   \n",
      "10  -0.274112 -1.541902  0.504910 -0.717403  0.157997  0.626374  0.684261   \n",
      "11   0.779029 -0.929653 -0.084620 -1.174222 -0.442347 -0.092468  0.387706   \n",
      "12  -1.157402 -1.426881 -0.216994 -1.439329  0.019948  0.545247  0.510808   \n",
      "13   1.172846 -1.143437  0.238372 -0.052152 -0.980000 -0.877594  0.921804   \n",
      "14  -1.157402 -1.426881 -0.216994 -1.439329  0.019948  0.545247  0.510808   \n",
      "15   0.609162 -0.778167 -0.404857 -1.238511 -0.588441 -0.186062  0.571871   \n",
      "16  -1.157402 -1.426881 -0.216994 -1.439329  0.019948  0.545247  0.510808   \n",
      "17   0.609162 -0.778167 -0.404857 -1.238511 -0.588441 -0.186062  0.571871   \n",
      "18  -1.157402 -1.426881 -0.216994 -1.439329  0.019948  0.545247  0.510808   \n",
      "19   0.609162 -0.778167 -0.404857 -1.238511 -0.588441 -0.186062  0.571871   \n",
      "20  -1.157402 -1.426881 -0.216994 -1.439329  0.019948  0.545247  0.510808   \n",
      "21  -1.003043  1.794751  0.115630  1.755685  0.389084 -0.750033 -0.483783   \n",
      "22   0.618054 -0.747757 -0.453132 -1.548475 -0.228924 -0.043550  0.524667   \n",
      "23  -1.695584  1.530538  0.465944  3.414538 -1.962944 -0.567188  0.356887   \n",
      "24  -0.009680  0.814472  0.542803  1.492685  1.867856  2.267145 -1.023691   \n",
      "25  -0.525758  2.336924 -0.718223  0.548758  0.138865 -0.716967 -0.483921   \n",
      "26   0.398214 -0.930596  0.250062  0.490758 -2.419543 -1.215049  1.322760   \n",
      "27  -0.045186  3.636865 -0.829551 -0.925264  0.411153  1.328238 -0.209865   \n",
      "28  -0.466582  1.544798  0.398922  3.832403 -1.558204  0.429469  0.510323   \n",
      "29  -0.759764  2.168305 -0.387584  1.071454  0.968167 -0.444164 -0.518576   \n",
      "..        ...       ...       ...       ...       ...       ...       ...   \n",
      "697  0.664067  0.258410  0.214374  0.764052 -0.041462 -0.577068  0.410810   \n",
      "698  0.315487  0.477781 -0.218102 -0.399815  0.611921  0.525538 -0.324951   \n",
      "699 -0.308040 -0.078280 -0.162387  0.287650 -0.046960  0.084873  0.133790   \n",
      "700  0.682042  0.759055 -0.020724  0.018925  0.383995 -0.048950  0.599086   \n",
      "701  0.029253  0.496058 -0.242394 -0.735130  1.156222 -0.131821 -0.211536   \n",
      "702 -0.275195  0.256212 -0.423829 -0.236574 -0.581412 -0.866532  0.210410   \n",
      "703 -0.874587 -0.694223  0.482561  0.883024  0.165087 -0.004042  2.057218   \n",
      "704  0.849971 -0.465836  0.686108  0.882275 -0.095261  2.206877 -0.008660   \n",
      "705 -0.814974 -0.740006 -0.117944  0.174704  0.815877 -1.219513  0.004845   \n",
      "706  0.874460  1.212685 -0.452166 -0.531849  0.530519 -1.225954  0.580279   \n",
      "707  0.262144  0.681144 -0.247321 -0.660412 -0.215801  0.073956 -0.159302   \n",
      "708 -0.871886  0.576637 -0.346212  0.106847 -0.732481  0.308955  0.047441   \n",
      "709  1.239855 -0.578962  0.830349  1.542425  0.249154  1.394989  0.279646   \n",
      "710 -0.084551  0.606002 -0.162847 -0.949145  0.378195 -0.104103 -0.068275   \n",
      "711 -0.661656  1.290851 -0.698770 -0.577929 -1.207488  0.472888  0.198746   \n",
      "712  0.622055 -0.040930  0.390196  0.764731 -0.329722 -0.784268  0.329498   \n",
      "713 -0.647131  0.315842  0.229196 -0.446533  0.102486  1.135316 -0.156333   \n",
      "714 -0.419523 -0.264669 -0.164604  0.247868 -0.251956 -0.927218  0.093571   \n",
      "715  1.195362 -1.839574 -8.668500  3.721927 -0.561975  1.538832 -1.296257   \n",
      "716  0.932033 -3.600071 -8.357261  2.990154  1.613930  1.166290 -2.012825   \n",
      "717 -0.908946  0.628470 -0.409075 -0.049878 -0.986667  0.219625  0.228513   \n",
      "718  0.463768 -0.379691  0.557300  0.969794 -0.113907 -0.846092  0.267024   \n",
      "719 -0.420167  0.962391 -0.015001 -0.673860 -0.299382  1.244091 -0.106442   \n",
      "720  0.681858 -2.963542 -8.969466  3.410926  0.201851  0.336031 -1.437214   \n",
      "721  1.030071 -2.142160 -8.565217  3.569410  0.042556  1.640635 -1.313139   \n",
      "722  0.207797 -0.137902  0.280835 -0.420448  0.216627  0.183351 -0.063839   \n",
      "723 -0.891032  1.159867 -0.543042 -0.528459 -0.905217  0.515173  0.312433   \n",
      "724  2.052535 -3.176159 -8.518102  4.516799  1.745404  0.047481  0.605526   \n",
      "725 -0.521481 -2.076507  0.426147  0.537509  2.548597 -0.044123  3.113684   \n",
      "726 -0.112776 -0.507786 -0.005646  0.512551  0.553023  0.429964  1.818095   \n",
      "\n",
      "         PC15      PC16  \n",
      "0   -0.358843  0.256436  \n",
      "1   -0.381439  0.508347  \n",
      "2   -1.017319  1.298543  \n",
      "3    1.985068  0.027982  \n",
      "4   -0.813416 -0.080753  \n",
      "5   -0.824593 -0.115655  \n",
      "6    1.618025 -0.275741  \n",
      "7   -0.100996 -0.080324  \n",
      "8    0.630756 -0.380327  \n",
      "9   -1.042783 -0.261698  \n",
      "10  -1.053960 -0.296600  \n",
      "11   0.243062 -0.376960  \n",
      "12  -0.655089 -0.265064  \n",
      "13  -1.441654 -0.293233  \n",
      "14  -0.655089 -0.265064  \n",
      "15   0.013688  0.010149  \n",
      "16  -0.655089 -0.265064  \n",
      "17   0.013688  0.010149  \n",
      "18  -0.655089 -0.265064  \n",
      "19   0.013688  0.010149  \n",
      "20  -0.655089 -0.265064  \n",
      "21   1.553798 -0.563999  \n",
      "22  -0.263897 -0.039392  \n",
      "23  -0.232489 -0.825886  \n",
      "24   1.180514 -0.276930  \n",
      "25  -1.428706  1.204155  \n",
      "26   0.757033 -1.096584  \n",
      "27  -1.084164  0.474007  \n",
      "28  -0.813630 -0.645510  \n",
      "29   0.272812  0.389745  \n",
      "..        ...       ...  \n",
      "697 -0.820794  0.057980  \n",
      "698  1.060120  0.602439  \n",
      "699  0.108002  0.473015  \n",
      "700 -1.006234  0.258458  \n",
      "701  0.759023  0.460812  \n",
      "702  0.266619  0.280471  \n",
      "703 -0.275489  1.025237  \n",
      "704  1.380669 -0.280708  \n",
      "705  0.215343  0.378173  \n",
      "706 -0.890140  0.621657  \n",
      "707  1.558474  0.223509  \n",
      "708 -0.575943  0.165345  \n",
      "709 -1.372972  0.880119  \n",
      "710  1.492620 -0.422740  \n",
      "711 -0.215505  0.512577  \n",
      "712 -0.855350  0.153470  \n",
      "713  1.527592 -0.349778  \n",
      "714 -0.296928  0.014208  \n",
      "715 -0.211285  0.640485  \n",
      "716  1.674240  0.215038  \n",
      "717 -0.129349 -0.261748  \n",
      "718 -0.695799 -0.017327  \n",
      "719  1.391353  0.206334  \n",
      "720  0.136784 -0.026567  \n",
      "721 -0.464826  0.330745  \n",
      "722  1.488159 -0.736723  \n",
      "723 -0.339876  0.007906  \n",
      "724 -0.012426 -0.534320  \n",
      "725  1.261795 -0.018951  \n",
      "726 -0.435224 -0.457096  \n",
      "\n",
      "[727 rows x 16 columns]\n"
     ]
    }
   ],
   "source": [
    "# From the above graph we can conclude that we can consider 10 PC variables to cover 90% of variance\n",
    "factor_pca = PCA(n_components=16)\n",
    "factor_pca.fit(A)\n",
    "Var=factor_pca.fit_transform(A)\n",
    "\n",
    "# To assign the column names to the eigen values set\n",
    "factor_final = pd.DataFrame(data=Var, columns = ['PC1', 'PC2', 'PC3', 'PC4', 'PC5', 'PC6', 'PC7', 'PC8', 'PC9', 'PC10', 'PC11', 'PC12', 'PC13', 'PC14', 'PC15', 'PC16',])\n",
    "factor_final.columns\n",
    "print (factor_final)"
   ]
  },
  {
   "cell_type": "code",
   "execution_count": 13,
   "metadata": {},
   "outputs": [],
   "source": [
    "# Create Gender Dataset \n",
    "Gender_data =pd.DataFrame()\n",
    "Gender_data[['Gender', 'CBB_9', 'CBB_10', 'CBB_11', 'CBB_12', 'CBB_13', 'CBB_14']] = pd.DataFrame(cust[['Gender', 'CBB_9', 'CBB_10', 'CBB_11', 'CBB_12', 'CBB_13', 'CBB_14']])\n",
    "Gender_data = pd.concat([Gender_data, factor_final], axis=1)\n"
   ]
  },
  {
   "cell_type": "code",
   "execution_count": 14,
   "metadata": {},
   "outputs": [],
   "source": [
    "# Create Marital status Dataset \n",
    "Marital_data =pd.DataFrame()\n",
    "Marital_data[['Marital status', 'CBB_9', 'CBB_10', 'CBB_11', 'CBB_12', 'CBB_13', 'CBB_14']] = pd.DataFrame(cust[['Marital status', 'CBB_9', 'CBB_10', 'CBB_11', 'CBB_12', 'CBB_13', 'CBB_14']])\n",
    "Marital_data = pd.concat([Marital_data, factor_final], axis=1)\n"
   ]
  },
  {
   "cell_type": "code",
   "execution_count": 16,
   "metadata": {},
   "outputs": [],
   "source": [
    "# Create Age Group Dataset \n",
    "Age_data =pd.DataFrame()\n",
    "Age_data[['age group', 'CBB_9', 'CBB_10', 'CBB_11', 'CBB_12', 'CBB_13', 'CBB_14']] = pd.DataFrame(cust[['age group', 'CBB_9', 'CBB_10', 'CBB_11', 'CBB_12', 'CBB_13', 'CBB_14']])\n",
    "Age_data = pd.concat([Age_data, factor_final], axis=1)\n"
   ]
  },
  {
   "cell_type": "code",
   "execution_count": 17,
   "metadata": {},
   "outputs": [],
   "source": [
    "# Create Education Dataset \n",
    "Edu_data =pd.DataFrame()\n",
    "Edu_data[['Educatuon', 'CBB_9', 'CBB_10', 'CBB_11', 'CBB_12', 'CBB_13', 'CBB_14']] = pd.DataFrame(cust[['Educatuon', 'CBB_9', 'CBB_10', 'CBB_11', 'CBB_12', 'CBB_13', 'CBB_14']])\n",
    "Edu_data = pd.concat([Edu_data, factor_final], axis=1)\n"
   ]
  },
  {
   "cell_type": "code",
   "execution_count": 18,
   "metadata": {},
   "outputs": [],
   "source": [
    "# Create Income Dataset \n",
    "Income_data =pd.DataFrame()\n",
    "Income_data[['income', 'CBB_9', 'CBB_10', 'CBB_11', 'CBB_12', 'CBB_13', 'CBB_14']] = pd.DataFrame(cust[['income', 'CBB_9', 'CBB_10', 'CBB_11', 'CBB_12', 'CBB_13', 'CBB_14']])\n",
    "Income_data = pd.concat([Income_data, factor_final], axis=1)\n"
   ]
  },
  {
   "cell_type": "code",
   "execution_count": 19,
   "metadata": {},
   "outputs": [],
   "source": [
    "# Create Job Dataset \n",
    "Job_data =pd.DataFrame()\n",
    "Job_data[['Job', 'CBB_9', 'CBB_10', 'CBB_11', 'CBB_12', 'CBB_13', 'CBB_14']] = pd.DataFrame(cust[['Job', 'CBB_9', 'CBB_10', 'CBB_11', 'CBB_12', 'CBB_13', 'CBB_14']])\n",
    "Job_data = pd.concat([Job_data, factor_final], axis=1)\n"
   ]
  },
  {
   "cell_type": "code",
   "execution_count": 20,
   "metadata": {},
   "outputs": [],
   "source": [
    "# Create Area Dataset \n",
    "Area_data =pd.DataFrame()\n",
    "Area_data[['Area', 'CBB_9', 'CBB_10', 'CBB_11', 'CBB_12', 'CBB_13', 'CBB_14']] = pd.DataFrame(cust[['Area', 'CBB_9', 'CBB_10', 'CBB_11', 'CBB_12', 'CBB_13', 'CBB_14']])\n",
    "Area_data = pd.concat([Area_data, factor_final], axis=1)\n"
   ]
  },
  {
   "cell_type": "code",
   "execution_count": 21,
   "metadata": {},
   "outputs": [
    {
     "data": {
      "text/plain": [
       "<matplotlib.axes._subplots.AxesSubplot at 0xc32ed68>"
      ]
     },
     "execution_count": 21,
     "metadata": {},
     "output_type": "execute_result"
    },
    {
     "data": {
      "image/png": "[encoded data removed]",
      "text/plain": [
       "<Figure size 720x432 with 2 Axes>"
      ]
     },
     "metadata": {},
     "output_type": "display_data"
    }
   ],
   "source": [
    "# Heat map of variables\n",
    "plt.figure(figsize =(10,6))\n",
    "#sns.heatmap(df_comp, cmap='plasma')\n",
    "sns.heatmap(factor_final.corr())"
   ]
  },
  {
   "cell_type": "code",
   "execution_count": 22,
   "metadata": {},
   "outputs": [],
   "source": [
    "#### Modelling for Gender Data\n",
    "\n",
    "# spiltting the train and test Data\n",
    "X = Gender_data[['PC1', 'PC2', 'PC3', 'PC4', 'PC5', 'PC6', 'PC7', 'PC8', 'PC9', 'PC10', 'PC11', 'PC12', 'PC13', 'PC14', 'PC15', 'PC16', 'CBB_9', 'CBB_10', 'CBB_11', 'CBB_12', 'CBB_13', 'CBB_14']]\n",
    "y = Gender_data['Gender']\n",
    "X_train, X_test, y_train, y_test = train_test_split(X,y, test_size = 0.3, random_state = 101)"
   ]
  },
  {
   "cell_type": "code",
   "execution_count": 23,
   "metadata": {},
   "outputs": [
    {
     "data": {
      "text/plain": [
       "0.6653543307086615"
      ]
     },
     "execution_count": 23,
     "metadata": {},
     "output_type": "execute_result"
    }
   ],
   "source": [
    "# Building a logistic regression model for Gender\n",
    "Logistic_Gender = LogisticRegression()\n",
    "Logistic_Gender.fit(X_train, y_train)\n",
    "\n",
    "#The score function of sklearn can quickly assess the model performance.\n",
    "Logistic_Gender.score(X_train, y_train)"
   ]
  },
  {
   "cell_type": "code",
   "execution_count": 24,
   "metadata": {},
   "outputs": [
    {
     "name": "stdout",
     "output_type": "stream",
     "text": [
      "             precision    recall  f1-score   support\n",
      "\n",
      "          0       0.69      0.43      0.53       113\n",
      "          1       0.57      0.79      0.66       106\n",
      "\n",
      "avg / total       0.63      0.61      0.59       219\n",
      "\n",
      "[[49 64]\n",
      " [22 84]]\n"
     ]
    }
   ],
   "source": [
    "# Predictions and Evaluations\n",
    "log_Gender_predictions = Logistic_Gender.predict(X_test)\n",
    "print(classification_report(y_test, log_Gender_predictions))\n",
    "print(confusion_matrix(y_test, log_Gender_predictions))\n"
   ]
  },
  {
   "cell_type": "code",
   "execution_count": 25,
   "metadata": {},
   "outputs": [
    {
     "name": "stdout",
     "output_type": "stream",
     "text": [
      "Kappa Score : 0.22334020618556705\n",
      "Jaccard Score : 0.6073059360730594\n"
     ]
    },
    {
     "data": {
      "image/png": "[encoded data removed]",
      "text/plain": [
       "<Figure size 432x288 with 1 Axes>"
      ]
     },
     "metadata": {},
     "output_type": "display_data"
    },
    {
     "data": {
      "text/plain": [
       "0.613040574386375"
      ]
     },
     "execution_count": 25,
     "metadata": {},
     "output_type": "execute_result"
    }
   ],
   "source": [
    "# Calculate Cohen kappa score and jaccard or accuracy score\n",
    "\n",
    "print(\"Kappa Score :\", cohen_kappa_score(y_test, log_Gender_predictions))\n",
    "\n",
    "print(\"Jaccard Score :\", jaccard_similarity_score(y_test, log_Gender_predictions))\n",
    "\n",
    "# Calculate the ROC curve for logistic model\n",
    "#Computing false and true positive rates\n",
    "\n",
    "fpr, tpr, _ = roc_curve(y_test,log_Gender_predictions)\n",
    "\n",
    "plt.clf()\n",
    "plt.plot(fpr, tpr)\n",
    "plt.xlabel('FPR')\n",
    "plt.ylabel('TPR')\n",
    "plt.title('ROC curve')\n",
    "plt.show()\n",
    "\n",
    "# To calculate the area under the ROC curve\n",
    "auc(fpr,tpr)\n",
    "\n",
    "roc_auc_score(y_test, log_Gender_predictions)"
   ]
  },
  {
   "cell_type": "code",
   "execution_count": 26,
   "metadata": {},
   "outputs": [
    {
     "data": {
      "text/plain": [
       "DecisionTreeClassifier(class_weight=None, criterion='gini', max_depth=None,\n",
       "            max_features=None, max_leaf_nodes=None,\n",
       "            min_impurity_decrease=0.0, min_impurity_split=None,\n",
       "            min_samples_leaf=1, min_samples_split=2,\n",
       "            min_weight_fraction_leaf=0.0, presort=False, random_state=None,\n",
       "            splitter='best')"
      ]
     },
     "execution_count": 26,
     "metadata": {},
     "output_type": "execute_result"
    }
   ],
   "source": [
    "# Decision Tree for Gender Data\n",
    "from sklearn import tree\n",
    "Decision_Gender = tree.DecisionTreeClassifier()\n",
    "\n",
    "Decision_Gender.fit(X_train, y_train)"
   ]
  },
  {
   "cell_type": "code",
   "execution_count": 27,
   "metadata": {},
   "outputs": [
    {
     "name": "stdout",
     "output_type": "stream",
     "text": [
      "             precision    recall  f1-score   support\n",
      "\n",
      "          0       0.65      0.55      0.59       113\n",
      "          1       0.59      0.68      0.63       106\n",
      "\n",
      "avg / total       0.62      0.61      0.61       219\n",
      "\n",
      "[[62 51]\n",
      " [34 72]]\n"
     ]
    }
   ],
   "source": [
    "# Predictions and Evaluations\n",
    "Decision_Gender_predictions = Decision_Gender.predict(X_test)\n",
    "print(classification_report(y_test, Decision_Gender_predictions))\n",
    "print(confusion_matrix(y_test, Decision_Gender_predictions))"
   ]
  },
  {
   "cell_type": "code",
   "execution_count": 28,
   "metadata": {},
   "outputs": [
    {
     "name": "stdout",
     "output_type": "stream",
     "text": [
      "Kappa Score : 0.22679127725856696\n",
      "Jaccard Score : 0.6118721461187214\n"
     ]
    },
    {
     "data": {
      "image/png": "[encoded data removed]",
      "text/plain": [
       "<Figure size 432x288 with 1 Axes>"
      ]
     },
     "metadata": {},
     "output_type": "display_data"
    },
    {
     "data": {
      "text/plain": [
       "0.6139589246952746"
      ]
     },
     "execution_count": 28,
     "metadata": {},
     "output_type": "execute_result"
    }
   ],
   "source": [
    "# Calculate Cohen kappa score and jaccard or accuracy score\n",
    "\n",
    "print(\"Kappa Score :\", cohen_kappa_score(y_test, Decision_Gender_predictions))\n",
    "\n",
    "print(\"Jaccard Score :\", jaccard_similarity_score(y_test, Decision_Gender_predictions))\n",
    "\n",
    "# Calculate the ROC curve for logistic model\n",
    "#Computing false and true positive rates\n",
    "\n",
    "fpr, tpr, _ = roc_curve(y_test,Decision_Gender_predictions)\n",
    "\n",
    "plt.clf()\n",
    "plt.plot(fpr, tpr)\n",
    "plt.xlabel('FPR')\n",
    "plt.ylabel('TPR')\n",
    "plt.title('ROC curve')\n",
    "plt.show()\n",
    "\n",
    "# To calculate the area under the ROC curve\n",
    "auc(fpr,tpr)\n",
    "\n",
    "roc_auc_score(y_test, Decision_Gender_predictions)"
   ]
  },
  {
   "cell_type": "code",
   "execution_count": 29,
   "metadata": {},
   "outputs": [
    {
     "data": {
      "text/plain": [
       "KNeighborsClassifier(algorithm='auto', leaf_size=30, metric='minkowski',\n",
       "           metric_params=None, n_jobs=1, n_neighbors=5, p=2,\n",
       "           weights='uniform')"
      ]
     },
     "execution_count": 29,
     "metadata": {},
     "output_type": "execute_result"
    }
   ],
   "source": [
    "# KNN Model for Gender Data\n",
    "from sklearn.neighbors import KNeighborsClassifier  \n",
    "KNN_Gender = KNeighborsClassifier(n_neighbors=5)  \n",
    "KNN_Gender.fit(X_train, y_train)  \n"
   ]
  },
  {
   "cell_type": "code",
   "execution_count": 30,
   "metadata": {},
   "outputs": [
    {
     "name": "stdout",
     "output_type": "stream",
     "text": [
      "             precision    recall  f1-score   support\n",
      "\n",
      "          0       0.61      0.52      0.56       113\n",
      "          1       0.56      0.64      0.60       106\n",
      "\n",
      "avg / total       0.58      0.58      0.58       219\n",
      "\n",
      "[[59 54]\n",
      " [38 68]]\n"
     ]
    }
   ],
   "source": [
    "# Predictions and Evaluations\n",
    "KNN_Gender_predictions = KNN_Gender.predict(X_test)\n",
    "print(classification_report(y_test, KNN_Gender_predictions))\n",
    "print(confusion_matrix(y_test, KNN_Gender_predictions)) "
   ]
  },
  {
   "cell_type": "code",
   "execution_count": 31,
   "metadata": {},
   "outputs": [
    {
     "name": "stdout",
     "output_type": "stream",
     "text": [
      "Kappa Score : 0.16287186305467838\n",
      "Jaccard Score : 0.5799086757990868\n"
     ]
    },
    {
     "data": {
      "image/png": "[encoded data removed]",
      "text/plain": [
       "<Figure size 432x288 with 1 Axes>"
      ]
     },
     "metadata": {},
     "output_type": "display_data"
    },
    {
     "data": {
      "text/plain": [
       "0.5818166638837868"
      ]
     },
     "execution_count": 31,
     "metadata": {},
     "output_type": "execute_result"
    }
   ],
   "source": [
    "# Calculate Cohen kappa score and jaccard or accuracy score\n",
    "\n",
    "print(\"Kappa Score :\", cohen_kappa_score(y_test, KNN_Gender_predictions))\n",
    "\n",
    "print(\"Jaccard Score :\", jaccard_similarity_score(y_test, KNN_Gender_predictions))\n",
    "\n",
    "# Calculate the ROC curve for logistic model\n",
    "#Computing false and true positive rates\n",
    "\n",
    "fpr, tpr, _ = roc_curve(y_test,KNN_Gender_predictions)\n",
    "\n",
    "plt.clf()\n",
    "plt.plot(fpr, tpr)\n",
    "plt.xlabel('FPR')\n",
    "plt.ylabel('TPR')\n",
    "plt.title('ROC curve')\n",
    "plt.show()\n",
    "\n",
    "# To calculate the area under the ROC curve\n",
    "auc(fpr,tpr)\n",
    "\n",
    "roc_auc_score(y_test, KNN_Gender_predictions)"
   ]
  },
  {
   "cell_type": "code",
   "execution_count": 32,
   "metadata": {},
   "outputs": [
    {
     "data": {
      "text/plain": [
       "GaussianNB(priors=None)"
      ]
     },
     "execution_count": 32,
     "metadata": {},
     "output_type": "execute_result"
    }
   ],
   "source": [
    "# Naive Bayes for Gender Data\n",
    "from sklearn.naive_bayes import GaussianNB\n",
    "from sklearn.naive_bayes import MultinomialNB\n",
    "Naive_Gender = GaussianNB()\n",
    "multiNaive = MultinomialNB()\n",
    "Naive_Gender.fit(X_train, y_train)"
   ]
  },
  {
   "cell_type": "code",
   "execution_count": 33,
   "metadata": {},
   "outputs": [
    {
     "name": "stdout",
     "output_type": "stream",
     "text": [
      "             precision    recall  f1-score   support\n",
      "\n",
      "          0       0.73      0.42      0.54       113\n",
      "          1       0.58      0.83      0.68       106\n",
      "\n",
      "avg / total       0.65      0.62      0.61       219\n",
      "\n",
      "[[48 65]\n",
      " [18 88]]\n"
     ]
    }
   ],
   "source": [
    "# Predictions and Evaluations\n",
    "Naive_Gender_predictions = Naive_Gender.predict(X_test)\n",
    "print(classification_report(y_test, Naive_Gender_predictions))\n",
    "print(confusion_matrix(y_test, Naive_Gender_predictions)) "
   ]
  },
  {
   "cell_type": "code",
   "execution_count": 34,
   "metadata": {},
   "outputs": [
    {
     "name": "stdout",
     "output_type": "stream",
     "text": [
      "Kappa Score : 0.25151327980234717\n",
      "Jaccard Score : 0.6210045662100456\n"
     ]
    },
    {
     "data": {
      "image/png": "[encoded data removed]",
      "text/plain": [
       "<Figure size 432x288 with 1 Axes>"
      ]
     },
     "metadata": {},
     "output_type": "display_data"
    },
    {
     "data": {
      "text/plain": [
       "0.627483720153615"
      ]
     },
     "execution_count": 34,
     "metadata": {},
     "output_type": "execute_result"
    }
   ],
   "source": [
    "# Calculate Cohen kappa score and jaccard or accuracy score\n",
    "\n",
    "print(\"Kappa Score :\", cohen_kappa_score(y_test, Naive_Gender_predictions))\n",
    "\n",
    "print(\"Jaccard Score :\", jaccard_similarity_score(y_test, Naive_Gender_predictions))\n",
    "\n",
    "# Calculate the ROC curve for logistic model\n",
    "#Computing false and true positive rates\n",
    "\n",
    "fpr, tpr, _ = roc_curve(y_test,Naive_Gender_predictions)\n",
    "\n",
    "plt.clf()\n",
    "plt.plot(fpr, tpr)\n",
    "plt.xlabel('FPR')\n",
    "plt.ylabel('TPR')\n",
    "plt.title('ROC curve')\n",
    "plt.show()\n",
    "\n",
    "# To calculate the area under the ROC curve\n",
    "auc(fpr,tpr)\n",
    "\n",
    "roc_auc_score(y_test, Naive_Gender_predictions)"
   ]
  },
  {
   "cell_type": "code",
   "execution_count": null,
   "metadata": {},
   "outputs": [],
   "source": []
  },
  {
   "cell_type": "code",
   "execution_count": null,
   "metadata": {},
   "outputs": [],
   "source": []
  },
  {
   "cell_type": "code",
   "execution_count": null,
   "metadata": {},
   "outputs": [],
   "source": []
  }
 ],
 "metadata": {
  "kernelspec": {
   "display_name": "Python 3",
   "language": "python",
   "name": "python3"
  },
  "language_info": {
   "codemirror_mode": {
    "name": "ipython",
    "version": 3
   },
   "file_extension": ".py",
   "mimetype": "text/x-python",
   "name": "python",
   "nbconvert_exporter": "python",
   "pygments_lexer": "ipython3",
   "version": "3.6.5"
  }
 },
 "nbformat": 4,
 "nbformat_minor": 2
}
